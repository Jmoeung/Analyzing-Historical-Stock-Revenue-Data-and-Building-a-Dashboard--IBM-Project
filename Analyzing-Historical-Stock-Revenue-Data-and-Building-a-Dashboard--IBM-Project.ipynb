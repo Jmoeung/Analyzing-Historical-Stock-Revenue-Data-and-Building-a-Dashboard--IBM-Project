{
 "cells": [
  {
   "cell_type": "markdown",
   "id": "1274fcf3",
   "metadata": {},
   "source": [
    "# Import Required Libraries\n",
    "Import yfinance, requests, BeautifulSoup, pandas, and matplotlib for data handling and visualization."
   ]
  },
  {
   "cell_type": "code",
   "execution_count": null,
   "id": "9de20ff7",
   "metadata": {},
   "outputs": [],
   "source": [
    "import yfinance as yf\n",
    "import requests\n",
    "from bs4 import BeautifulSoup\n",
    "import pandas as pd\n",
    "import matplotlib.pyplot as plt"
   ]
  },
  {
   "cell_type": "markdown",
   "id": "fc20d718",
   "metadata": {},
   "source": [
    "# Download Tesla Stock Data\n",
    "Use yfinance to download historical stock data for Tesla and reset the index for analysis."
   ]
  },
  {
   "cell_type": "code",
   "execution_count": null,
   "id": "ad10a87e",
   "metadata": {},
   "outputs": [],
   "source": [
    "tesla = yf.Ticker(\"TSLA\")\n",
    "tesla_stock = tesla.history(period=\"max\")\n",
    "tesla_stock.reset_index(inplace=True)\n",
    "print(tesla_stock.tail())"
   ]
  },
  {
   "cell_type": "markdown",
   "id": "27e62f04",
   "metadata": {},
   "source": [
    "# Scrape Tesla Revenue Data\n",
    "Scrape Tesla's revenue data from Macrotrends using requests and BeautifulSoup, then clean and convert the data using pandas."
   ]
  },
  {
   "cell_type": "code",
   "execution_count": null,
   "id": "5d4bf16f",
   "metadata": {},
   "outputs": [],
   "source": [
    "url = \"https://www.macrotrends.net/stocks/charts/TSLA/tesla/revenue\"\n",
    "html_data = requests.get(url).text\n",
    "soup = BeautifulSoup(html_data, \"html.parser\")\n",
    "tables = soup.find_all(\"table\")\n",
    "tesla_revenue = pd.DataFrame(columns=[\"Date\", \"Revenue\"])\n",
    "\n",
    "for table in tables:\n",
    "    for row in table.find_all(\"tr\"):\n",
    "        cols = row.find_all(\"td\")\n",
    "        if len(cols) == 2:\n",
    "            date = cols[0].text.strip()\n",
    "            revenue = cols[1].text.strip().replace(\"$\", \"\").replace(\",\", \"\")\n",
    "            if revenue:\n",
    "                tesla_revenue = pd.concat([tesla_revenue, pd.DataFrame([[date, revenue]], columns=[\"Date\", \"Revenue\")], ignore_index=True)\n",
    "\n",
    "tesla_revenue[\"Revenue\"] = pd.to_numeric(tesla_revenue[\"Revenue\"], errors=\"coerce\")\n",
    "print(tesla_revenue.tail())"
   ]
  },
  {
   "cell_type": "markdown",
   "id": "fb5e5175",
   "metadata": {},
   "source": [
    "# Download GameStop Stock Data\n",
    "Use yfinance to download historical stock data for GameStop and reset the index for analysis."
   ]
  },
  {
   "cell_type": "code",
   "execution_count": null,
   "id": "e5b00712",
   "metadata": {},
   "outputs": [],
   "source": [
    "gamestop = yf.Ticker(\"GME\")\n",
    "gme_stock = gamestop.history(period=\"max\")\n",
    "gme_stock.reset_index(inplace=True)\n",
    "print(gme_stock.tail())"
   ]
  },
  {
   "cell_type": "markdown",
   "id": "8c3f9aff",
   "metadata": {},
   "source": [
    "# Scrape GameStop Revenue Data\n",
    "Scrape GameStop's revenue data from Macrotrends using requests and BeautifulSoup, then clean and convert the data using pandas."
   ]
  },
  {
   "cell_type": "code",
   "execution_count": null,
   "id": "d9d010a0",
   "metadata": {},
   "outputs": [],
   "source": [
    "url = \"https://www.macrotrends.net/stocks/charts/GME/gamestop/revenue\"\n",
    "html_data = requests.get(url).text\n",
    "soup = BeautifulSoup(html_data, \"html.parser\")\n",
    "tables = soup.find_all(\"table\")\n",
    "gme_revenue = pd.DataFrame(columns=[\"Date\", \"Revenue\"])\n",
    "\n",
    "for table in tables:\n",
    "    for row in table.find_all(\"tr\"):\n",
    "        cols = row.find_all(\"td\")\n",
    "        if len(cols) == 2:\n",
    "            date = cols[0].text.strip()\n",
    "            revenue = cols[1].text.strip().replace(\"$\", \"\").replace(\",\", \"\")\n",
    "            if revenue:\n",
    "                gme_revenue = pd.concat([gme_revenue, pd.DataFrame([[date, revenue]], columns=[\"Date\", \"Revenue\")], ignore_index=True)\n",
    "\n",
    "gme_revenue[\"Revenue\"] = pd.to_numeric(gme_revenue[\"Revenue\"], errors=\"coerce\")\n",
    "print(gme_revenue.tail())"
   ]
  },
  {
   "cell_type": "markdown",
   "id": "fd758b52",
   "metadata": {},
   "source": [
    "# Visualize Tesla Stock Price vs Revenue\n",
    "Plot Tesla's stock price and revenue on a dual-axis matplotlib chart for comparison."
   ]
  },
  {
   "cell_type": "code",
   "execution_count": null,
   "id": "950d28ca",
   "metadata": {},
   "outputs": [],
   "source": [
    "fig, ax1 = plt.subplots(figsize=(14,6))\n",
    "ax1.plot(tesla_stock['Date'], tesla_stock['Close'], color='blue', label='Tesla Stock Price')\n",
    "ax1.set_ylabel('Stock Price')\n",
    "ax1.set_xlabel('Date')\n",
    "ax1.legend(loc='upper left')\n",
    "\n",
    "# Align revenue dates\n",
    "tesla_revenue['Date'] = pd.to_datetime(tesla_revenue['Date'])\n",
    "ax2 = ax1.twinx()\n",
    "ax2.plot(tesla_revenue['Date'], tesla_revenue['Revenue'], color='green', label='Tesla Revenue')\n",
    "ax2.set_ylabel('Revenue (in billions)')\n",
    "ax2.legend(loc='upper right')\n",
    "\n",
    "plt.title('Tesla Stock Price vs Revenue')\n",
    "plt.show()"
   ]
  },
  {
   "cell_type": "markdown",
   "id": "c6ec0eae",
   "metadata": {},
   "source": [
    "# Visualize GameStop Stock Price vs Revenue\n",
    "Plot GameStop's stock price and revenue on a dual-axis matplotlib chart for comparison."
   ]
  },
  {
   "cell_type": "code",
   "execution_count": null,
   "id": "126d6f95",
   "metadata": {},
   "outputs": [],
   "source": [
    "fig, ax1 = plt.subplots(figsize=(14,6))\n",
    "ax1.plot(gme_stock['Date'], gme_stock['Close'], color='red', label='GameStop Stock Price')\n",
    "ax1.set_ylabel('Stock Price')\n",
    "ax1.set_xlabel('Date')\n",
    "ax1.legend(loc='upper left')\n",
    "\n",
    "# Align revenue dates\n",
    "gme_revenue['Date'] = pd.to_datetime(gme_revenue['Date'])\n",
    "ax2 = ax1.twinx()\n",
    "ax2.plot(gme_revenue['Date'], gme_revenue['Revenue'], color='orange', label='GameStop Revenue')\n",
    "ax2.set_ylabel('Revenue (in billions)')\n",
    "ax2.legend(loc='upper right')\n",
    "\n",
    "plt.title('GameStop Stock Price vs Revenue')\n",
    "plt.show()"
   ]
  }
 ],
 "metadata": {
  "language_info": {
   "name": "python"
  }
 },
 "nbformat": 4,
 "nbformat_minor": 5
}
